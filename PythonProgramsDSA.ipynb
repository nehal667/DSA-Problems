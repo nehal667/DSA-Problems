{
  "cells": [
    {
      "cell_type": "code",
      "execution_count": null,
      "metadata": {
        "colab": {
          "base_uri": "https://localhost:8080/"
        },
        "id": "GITCoEl524oz",
        "outputId": "750aad31-9557-4217-d372-95131feb3540"
      },
      "outputs": [
        {
          "name": "stdout",
          "output_type": "stream",
          "text": [
            "How many elements to store inside the array3\n",
            "\n",
            "Enter 3 Element: 4\n",
            "4\n",
            "7\n",
            "\n",
            "The array elements are \n",
            "447"
          ]
        }
      ],
      "source": [
        "# create a two- dimensional array and insert numbers to the maximum size provided until the\n",
        "# the end of the array. Acces the numbers inserted and then display the same as output\n",
        "\n",
        "print(\"How many elements to store inside the array\", end = \"\")\n",
        "num = input()\n",
        "arr = []\n",
        "print(\"\\nEnter\", num, \"Element: \", end=\"\")\n",
        "num = int(num)\n",
        "for i in range(num):\n",
        "  element = input()\n",
        "  arr.append(element)\n",
        "print(\"\\nThe array elements are \")\n",
        "for i in range(num):\n",
        "  print(arr[i], end=\"\")"
      ]
    },
    {
      "cell_type": "code",
      "source": [
        "def is_prime(num):\n",
        "  if num < 2:\n",
        "    return False\n",
        "\n",
        "\n",
        "  for i in range(2, num):\n",
        "    if num % i == 0:\n",
        "      return False\n",
        "  return True\n",
        "\n",
        "\n",
        "num = int(input(\"Enter the Number: \"))\n",
        "\n",
        "if is_prime(num):\n",
        "    print(f\"{num} is a prime number.\")\n",
        "else:\n",
        "    print(f\"{num} is not a prime number.\")"
      ],
      "metadata": {
        "colab": {
          "base_uri": "https://localhost:8080/"
        },
        "id": "6-3GTulpxIfq",
        "outputId": "f2c0a843-9c3e-48b1-e59b-d5d29fdfaad3"
      },
      "execution_count": null,
      "outputs": [
        {
          "output_type": "stream",
          "name": "stdout",
          "text": [
            "Enter the Number: 10\n",
            "10 is not a prime number.\n"
          ]
        }
      ]
    },
    {
      "cell_type": "code",
      "execution_count": null,
      "metadata": {
        "colab": {
          "base_uri": "https://localhost:8080/"
        },
        "id": "-av3tCZ1BuVr",
        "outputId": "9a04a7ce-18fa-4b6b-eaf4-26a540a82204"
      },
      "outputs": [
        {
          "output_type": "stream",
          "name": "stdout",
          "text": [
            "Input the number of rows: 3\n",
            "Input the number of columns: 4\n",
            "[[0, 0, 0, 0], [0, 1, 2, 3], [0, 2, 4, 6]]\n"
          ]
        }
      ],
      "source": [
        "# create a two- dimensional array and insert numbers to the maximum size provided until the\n",
        "# the end of the array. Acces the numbers inserted and then display the same as output\n",
        "\n",
        "r_num = int(input(\"Input the number of rows: \"))\n",
        "c_num = int(input(\"Input the number of columns: \"))\n",
        "twod_arr = [[0 for col in range(c_num)] for row in range(r_num)]\n",
        "\n",
        "for row in range(r_num):\n",
        "  for col in range(c_num):\n",
        "    twod_arr[row][col] = row*col\n",
        "print(twod_arr)\n"
      ]
    },
    {
      "cell_type": "code",
      "execution_count": null,
      "metadata": {
        "colab": {
          "base_uri": "https://localhost:8080/"
        },
        "id": "HEG91bOlGFXc",
        "outputId": "0ae87636-b0bf-4e51-ccf3-4fc4c766d6ec"
      },
      "outputs": [
        {
          "output_type": "stream",
          "name": "stdout",
          "text": [
            "Enter the size of the array: 4\n",
            "Enter 4 Elements: 1\n",
            "2\n",
            "3\n",
            "4\n",
            "\n",
            " Enter the value to Delete: 3\n",
            "\n",
            " The new Array is: \n",
            "1 2 4 "
          ]
        }
      ],
      "source": [
        "44# Implement delete operarion in array\n",
        "print(end=\"Enter the size of the array: \")\n",
        "tot = int(input())\n",
        "arr = []\n",
        "print(end=\"Enter \" + str(tot) + \" Elements: \")\n",
        "for i in range(tot):\n",
        "  arr.append(input())\n",
        "print(end=\"\\n Enter the value to Delete: \")\n",
        "val = input()\n",
        "if val in arr:\n",
        "  arr.remove(val)\n",
        "  print(\"\\n The new Array is: \")\n",
        "  for i in range(tot-1):\n",
        "    print(end=arr[i]+\" \")\n",
        "else:\n",
        "  print(\"\\n Element doesn't exist in the Array!\")"
      ]
    },
    {
      "cell_type": "code",
      "source": [
        "print(\"Enter the size of the array: \", end=\"\")\n",
        "nums = int(input())\n",
        "array = []\n",
        "print(f\"Enter the {nums} Elements\", end=\"\")\n",
        "for i in range(nums):\n",
        "  array.append(input())\n",
        "print(\"Enter the value You want to delete: \", end=\"\")\n",
        "\n",
        "val = input()\n",
        "if val in array:\n",
        "  array.remove(val)\n",
        "  print(\"The new array is: \")\n",
        "  for i in range(nums-1):\n",
        "    print(array[i], end=\"\")\n",
        "else:\n",
        "  print(\"Element doesn't exist in the array \")"
      ],
      "metadata": {
        "colab": {
          "base_uri": "https://localhost:8080/"
        },
        "id": "Frfh8wlkEKg_",
        "outputId": "7b83c7dd-2149-4acc-d592-3e2c14e3df53"
      },
      "execution_count": null,
      "outputs": [
        {
          "output_type": "stream",
          "name": "stdout",
          "text": [
            "Enter the size of the array: 5\n",
            "Enter the 5 Elements1\n",
            "2\n",
            "4\n",
            "5\n",
            "6\n",
            "Enter the value You want to delete: 4\n",
            "The new array is: \n",
            "1256"
          ]
        }
      ]
    },
    {
      "cell_type": "code",
      "execution_count": null,
      "metadata": {
        "colab": {
          "base_uri": "https://localhost:8080/"
        },
        "id": "9S9W5w6u9-p7",
        "outputId": "e0db2c79-db85-4ff3-b4cc-a80fa1d2699d"
      },
      "outputs": [
        {
          "name": "stdout",
          "output_type": "stream",
          "text": [
            "The new created array is :1 2 3 1 2 5 \r\n",
            "The index of 1st occurrence of 2 is : 1\n",
            "The index of 1st occurrence of 1 is : 0\n"
          ]
        }
      ],
      "source": [
        "4# Implement the search operartion in python\n",
        "import array\n",
        "arr = array.array(\"i\", [1, 2, 3, 1, 2, 5])\n",
        "print(\"The new created array is :\", end=\"\")\n",
        "for i in range(0,6):\n",
        "  print(arr[i], end=\" \")\n",
        "print(\"\\r\")\n",
        "print(\"The index of 1st occurrence of 2 is : \", end=\"\")\n",
        "print(arr.index(2))\n",
        "print(\"The index of 1st occurrence of 1 is : \", end=\"\")\n",
        "print(arr.index(1))"
      ]
    },
    {
      "cell_type": "code",
      "execution_count": null,
      "metadata": {
        "colab": {
          "base_uri": "https://localhost:8080/"
        },
        "id": "b0MJbWyojA6Y",
        "outputId": "e0944245-1b2f-4d50-8941-941d4744c068"
      },
      "outputs": [
        {
          "name": "stdout",
          "output_type": "stream",
          "text": [
            "['Welcome', 'To', 'Jain University']\n",
            "Jain University\n",
            "['Welcome', 'To']\n",
            "To\n",
            "['Welcome']\n"
          ]
        }
      ],
      "source": [
        "# Stack Implementaion using List\n",
        "\n",
        "stack = []\n",
        "stack.append(\"Welcome\")\n",
        "stack.append(\"To\")\n",
        "stack.append(\"Jain University\")\n",
        "print(stack)\n",
        "print(stack.pop())\n",
        "print(stack)\n",
        "print(stack.pop())\n",
        "print(stack)"
      ]
    },
    {
      "cell_type": "code",
      "execution_count": null,
      "metadata": {
        "colab": {
          "base_uri": "https://localhost:8080/"
        },
        "id": "-Az3Cpwik576",
        "outputId": "e5c5f581-1d2f-4b68-ea62-bd5e3d943809"
      },
      "outputs": [
        {
          "name": "stdout",
          "output_type": "stream",
          "text": [
            "deque(['ABC', 'PQR', 'XYZ'])\n",
            "XYZ\n",
            "PQR\n",
            "deque(['ABC'])\n"
          ]
        }
      ],
      "source": [
        "# Implemenation of stack using deque collection\n",
        "\n",
        "from collections import deque\n",
        "stack = deque()\n",
        "stack.append(\"ABC\")\n",
        "stack.append(\"PQR\")\n",
        "stack.append(\"XYZ\")\n",
        "print(stack)\n",
        "print(stack.pop())\n",
        "print(stack.pop())\n",
        "print(stack)"
      ]
    },
    {
      "cell_type": "code",
      "execution_count": null,
      "metadata": {
        "colab": {
          "base_uri": "https://localhost:8080/"
        },
        "id": "9guXsKttmjDc",
        "outputId": "7bf20385-e332-41be-aa4f-58e47f481de1"
      },
      "outputs": [
        {
          "name": "stdout",
          "output_type": "stream",
          "text": [
            "3\n",
            "True\n",
            "Jain University\n",
            "False\n",
            "False\n",
            "True\n"
          ]
        }
      ],
      "source": [
        "# Implementation using LifoQueue\n",
        "\n",
        "from queue import LifoQueue\n",
        "stack = LifoQueue(maxsize=3)\n",
        "stack.put(\"Welcome\")\n",
        "stack.put(\"To\")\n",
        "stack.put(\"Jain University\")\n",
        "print(stack.qsize())\n",
        "print(stack.full())\n",
        "print(stack.get())\n",
        "print(stack.full())\n",
        "print(stack.empty())\n",
        "stack.put(\"Bangalore\")\n",
        "print(stack.full())"
      ]
    },
    {
      "cell_type": "code",
      "execution_count": null,
      "metadata": {
        "colab": {
          "base_uri": "https://localhost:8080/"
        },
        "id": "YJ7VqNYPs3DO",
        "outputId": "d344ad22-6054-46b8-e98c-ee187a99a163"
      },
      "outputs": [
        {
          "name": "stdout",
          "output_type": "stream",
          "text": [
            "[1, 2, 3, 4, 5]\n",
            "After removing an element\n",
            "[2, 3, 4, 5]\n"
          ]
        }
      ],
      "source": [
        "# Implementation of Queue\n",
        "\n",
        "class Queue:\n",
        "  def __init__(self):\n",
        "    self.queue = []\n",
        "  def enqueue(self,item):\n",
        "    self.queue.append(item)\n",
        "  def dequeue(self):\n",
        "    if len(self.queue) < 1:\n",
        "      return None\n",
        "    return self.queue.pop(0)\n",
        "  def display(self):\n",
        "    print(self.queue)\n",
        "  def size(self):\n",
        "    return len(self.queue)\n",
        "\n",
        "q = Queue()\n",
        "q.enqueue(1)\n",
        "q.enqueue(2)\n",
        "q.enqueue(3)\n",
        "q.enqueue(4)\n",
        "q.enqueue(5)\n",
        "q.display()\n",
        "q.dequeue()\n",
        "print(\"After removing an element\")\n",
        "q.display()"
      ]
    },
    {
      "cell_type": "code",
      "source": [
        "class queue():\n",
        "  def __init__(self):\n",
        "    self.queue = []\n",
        "  def enqueue(self,item):\n",
        "    self.queue.append(item)\n",
        "  def dequeue(self):\n",
        "    if len(self.queue) < 1:\n",
        "      return None\n",
        "    return self.queue.pop(0)\n",
        "  def display(self):\n",
        "    print(self.queue)\n",
        "  def size(self):\n",
        "    return (len(self.queue))\n",
        "\n",
        "q = queue()\n",
        "q.enqueue(1)\n",
        "q.enqueue(4)\n",
        "q.enqueue(5)\n",
        "q.enqueue(6)\n",
        "q.enqueue(8)\n",
        "q.enqueue(11)\n",
        "q.enqueue(22)\n",
        "q.display()\n",
        "q.dequeue()\n",
        "print(\"After removing an element\")\n",
        "q.display()\n",
        "print(\"Length of the queue is \", q.size())\n",
        "\n"
      ],
      "metadata": {
        "colab": {
          "base_uri": "https://localhost:8080/"
        },
        "id": "RViPgJNAg2SA",
        "outputId": "0c4a8779-cc2b-4012-9d27-284a34f61bd7"
      },
      "execution_count": null,
      "outputs": [
        {
          "output_type": "stream",
          "name": "stdout",
          "text": [
            "[1, 4, 5, 6, 8, 11, 22]\n",
            "After removing an element\n",
            "[4, 5, 6, 8, 11, 22]\n",
            "Length of the queue is  6\n"
          ]
        }
      ]
    },
    {
      "cell_type": "code",
      "execution_count": null,
      "metadata": {
        "colab": {
          "base_uri": "https://localhost:8080/"
        },
        "id": "svRq4venroFE",
        "outputId": "406833aa-5f27-4494-afb5-d9fcb986326a"
      },
      "outputs": [
        {
          "name": "stdout",
          "output_type": "stream",
          "text": [
            "Initial Queue values\n",
            "No element in the circular Queue is found\n",
            "After removing an element\n",
            "No element in the circular Queue is found\n"
          ]
        }
      ],
      "source": [
        "class MyCircularQueue():\n",
        "  def __init__(self,k):\n",
        "    self.k = k\n",
        "    self.queue = [None]*k\n",
        "    self.head = self.tail = -1\n",
        "\n",
        "  def enqueue(self,data):\n",
        "    if((self.tail+1)%self.k == self.head):\n",
        "      print(\"The circular queue is full\\n\")\n",
        "    elif(self.head == -1):\n",
        "      self.head == 0\n",
        "      self.tail == 0\n",
        "      self.queue[self.tail] = data\n",
        "    else:\n",
        "      self.tail = (self.tail+1)%self.k\n",
        "      self.queue[self.tail] = data\n",
        "\n",
        "  def dequeue(self):\n",
        "    if(self.head == 1):\n",
        "      print(\"The circular queue is empty/n\")\n",
        "    elif(self.head == self.tail):\n",
        "      temp = self.queue[self.head]\n",
        "      self.head = -1\n",
        "      self.tail = -1\n",
        "      return temp\n",
        "    else:\n",
        "      temp = self.queue[self.head]\n",
        "      self.head = (self.head+1)%self.k\n",
        "      return temp\n",
        "\n",
        "  def printQueue(self):\n",
        "    if (self.head == -1):\n",
        "      print(\"No element in the circular Queue is found\")\n",
        "    elif (self.tail >= self.head):\n",
        "      for i in range(self.head,self.tail+1):\n",
        "        print(self.queue[i],end=\"\")\n",
        "      print()\n",
        "    else:\n",
        "      for i in range (self.head,self.k):\n",
        "        print(self.queue[i],end=\"\")\n",
        "      for i in range(0,self.tail+1):\n",
        "        print(self.queue[i],end=\"\")\n",
        "      print()\n",
        "\n",
        "obj = MyCircularQueue(5)\n",
        "\n",
        "obj.enqueue(12)\n",
        "obj.enqueue(22)\n",
        "obj.enqueue(31)\n",
        "obj.enqueue(44)\n",
        "obj.enqueue(57)\n",
        "print(\"Initial Queue values\")\n",
        "obj.printQueue()\n",
        "\n",
        "obj.dequeue()\n",
        "\n",
        "print(\"After removing an element\")\n",
        "obj.printQueue()\n",
        "\n"
      ]
    },
    {
      "cell_type": "code",
      "execution_count": null,
      "metadata": {
        "colab": {
          "base_uri": "https://localhost:8080/"
        },
        "id": "qIXHNX2gf6br",
        "outputId": "265f1f3a-52e4-4a2a-8293-9e6ec63d7cd2"
      },
      "outputs": [
        {
          "name": "stdout",
          "output_type": "stream",
          "text": [
            "7\n",
            "None\n"
          ]
        }
      ],
      "source": [
        "# Creating Node in Singly Linked List\n",
        "\n",
        "class Node:\n",
        "  def __init__(self,data):\n",
        "    self.data = data;\n",
        "    self.reference = None;\n",
        "\n",
        "node1 = Node(7)\n",
        "print(node1.data)\n",
        "print(node1.reference)"
      ]
    },
    {
      "cell_type": "code",
      "execution_count": null,
      "metadata": {
        "colab": {
          "base_uri": "https://localhost:8080/"
        },
        "id": "kiskzruLfBHf",
        "outputId": "0ba2c058-c229-4028-dd33-e0274e4b3401"
      },
      "outputs": [
        {
          "name": "stdout",
          "output_type": "stream",
          "text": [
            "4 45 10 51 \n",
            "25 4 45 10 51 \n",
            "25 4 45 10 51 78 \n",
            "25 4 7 45 10 51 78 \n",
            "4 7 45 10 51 78 \n",
            "4 7 45 10 51 \n",
            "4 7 10 51 "
          ]
        }
      ],
      "source": [
        "# Traversal of LinkedList\n",
        "class Node:\n",
        "  def __init__(self,data):\n",
        "    self.data = data;\n",
        "    self.next = None;\n",
        "\n",
        "class Sll:\n",
        "  def __init__(self):\n",
        "    self.head = None\n",
        "\n",
        "  def traversal(self):\n",
        "    if self.head is None:\n",
        "      print(\"Singly LinkedList is empty!\")\n",
        "    else:\n",
        "      a = self.head\n",
        "      while a is not None:\n",
        "        print(a.data, end=\" \")\n",
        "        a = a.next\n",
        "\n",
        "#  Insert The Node at Beginning\n",
        "  def insert_at_begining(self,data):\n",
        "    print()\n",
        "    nb = Node(data)\n",
        "    nb.next = self.head\n",
        "    self.head = nb\n",
        "\n",
        "# Insert the Node at end\n",
        "\n",
        "  def insert_at_end(self,data):\n",
        "    print()\n",
        "    ne = Node(data)\n",
        "    a = self.head\n",
        "    while a.next is not None:\n",
        "      a = a.next\n",
        "    a.next = ne\n",
        "\n",
        "# Insert the node at the specifies position\n",
        "  def insert_at_specified_node(self,position,data):\n",
        "    print()\n",
        "    nib = Node(data)\n",
        "    a = self.head\n",
        "    for i in range(1,position-1):\n",
        "      a = a.next\n",
        "    nib.next = a.next\n",
        "    a.next = nib\n",
        "\n",
        "\n",
        "# Delete the node at the beginning\n",
        "  def deletion_at_beginning(self):\n",
        "    print()\n",
        "    a = self.head\n",
        "    self.head = a.next\n",
        "    a.next = None\n",
        "\n",
        "# Delete the node at the end\n",
        "  def deletion_at_end(self):\n",
        "    print()\n",
        "    prev = self.head\n",
        "    a = self.head.next\n",
        "    while a.next is not None:\n",
        "      a = a.next\n",
        "      prev = prev.next\n",
        "    prev.next = None\n",
        "\n",
        "#Delete the node at the specified Position\n",
        "  def delete_at_particular_node(self,position):\n",
        "    print()\n",
        "    prev = self.head\n",
        "    a = self.head.next\n",
        "    for i in range(1,position-1):\n",
        "      a = a.next\n",
        "      prev = prev.next\n",
        "    prev.next = a.next\n",
        "    a.next = None\n",
        "\n",
        "\n",
        "n1 = Node(4)\n",
        "sll = Sll()\n",
        "sll.head = n1\n",
        "n2 = Node(45)\n",
        "n1.next = n2\n",
        "n3 = Node(10)\n",
        "n2.next = n3\n",
        "n4 = Node(51)\n",
        "n3.next = n4\n",
        "sll.traversal()\n",
        "sll.insert_at_begining(25)\n",
        "sll.traversal()\n",
        "sll.insert_at_end(78)\n",
        "sll.traversal()\n",
        "sll.insert_at_specified_node(3,7)\n",
        "sll.traversal()\n",
        "sll.deletion_at_beginning()\n",
        "sll.traversal()\n",
        "sll.deletion_at_end()\n",
        "sll.traversal()\n",
        "sll.delete_at_particular_node(3)\n",
        "sll.traversal()"
      ]
    },
    {
      "cell_type": "code",
      "execution_count": null,
      "metadata": {
        "colab": {
          "base_uri": "https://localhost:8080/"
        },
        "id": "SHIhJIxg5YTW",
        "outputId": "eda27fbb-3814-4640-8852-5174765d8fa0"
      },
      "outputs": [
        {
          "name": "stdout",
          "output_type": "stream",
          "text": [
            "4 45 10 51 \n",
            "51 10 45 4 \n",
            "2 4 45 10 51 \n",
            "51 10 45 4 2 \n",
            "2 4 45 10 51 45 \n",
            "45 51 10 45 4 2 \n",
            "2 58 4 45 10 51 45 \n",
            "58 4 45 10 51 45 \n",
            "45 51 10 45 4 58 \n",
            "58 4 45 10 51 \n",
            "58 4 10 51 "
          ]
        }
      ],
      "source": [
        "# Implementation of DoubleLinkedList\n",
        "\n",
        "class Node:\n",
        "  def __init__(self,data):\n",
        "    self.data = data;\n",
        "    self.next = None;\n",
        "    self.prev = None\n",
        "\n",
        "class Dll:\n",
        "  def __init__(self):\n",
        "    self.head = None\n",
        "\n",
        "  def forward_traversal(self):\n",
        "    if self.head is None:\n",
        "      print(\"Double LinkedList is empty!\")\n",
        "    else:\n",
        "      a = self.head\n",
        "      while a is not None:\n",
        "        print(a.data, end=\" \")\n",
        "        a = a.next\n",
        "\n",
        "  def backward_traversal(self):\n",
        "    print()\n",
        "    if self.head is None:\n",
        "      print(\"Double LinkedList is empty!\")\n",
        "    else:\n",
        "      a = self.head\n",
        "      while a.next is not None:\n",
        "        a = a.next\n",
        "      while a is not None:\n",
        "        print(a.data, end=\" \")\n",
        "        a = a.prev\n",
        "\n",
        "# Insert the node at the beginning of the DLL\n",
        "  def insertion_at_beginning(self,data):\n",
        "    print()\n",
        "    ns = Node(data)\n",
        "    a = self.head\n",
        "    a.prev = ns\n",
        "    ns.next = a\n",
        "    self.head = ns\n",
        "\n",
        "# Insert the node at the end of the DLL\n",
        "  def insertion_at_end(self,data):\n",
        "    print()\n",
        "    ne = Node(data)\n",
        "    a = self.head\n",
        "    while a.next is not None:\n",
        "      a = a.next\n",
        "    a.next = ne\n",
        "    ne.prev = a\n",
        "\n",
        "# Insert the node at the specified position in the DLL\n",
        "  def insert_at_the_specified_position(self,position,data):\n",
        "    print()\n",
        "    nib = Node(data)\n",
        "    a = self.head\n",
        "    for i in range(1,position-1):\n",
        "      a = a.next\n",
        "    nib.prev = a\n",
        "    nib.next = a.next\n",
        "    a.next.prev = nib\n",
        "    a.next = nib\n",
        "\n",
        "#Deletion the Node at the beginning in Dll\n",
        "  def deletion_at_the_beginning(self):\n",
        "    print()\n",
        "    a = self.head\n",
        "    self.head = a.next\n",
        "    a.next = None\n",
        "    self.head.prev = None\n",
        "\n",
        "# Delete the Node at end in DLL\n",
        "  def deletion_at_the_end(self):\n",
        "    print()\n",
        "    prev = self.head\n",
        "    a = prev.next\n",
        "    while a.next is not None:\n",
        "      a = a.next\n",
        "      prev = prev.next\n",
        "    prev.next = None\n",
        "    a.prev = None\n",
        "\n",
        "# Deletion at the particular position\n",
        "  def deletion_at_the_particular_position(self,position):\n",
        "    print()\n",
        "    a = self.head.next\n",
        "    b = self.head\n",
        "    for i in range(1, position-1):\n",
        "      a = a.next\n",
        "      b = b.next\n",
        "    b.next = a.next\n",
        "    a.next.prev = b\n",
        "    a.next = None\n",
        "    a.prev = None\n",
        "\n",
        "n1 = Node(4)\n",
        "dll = Dll()\n",
        "dll.head = n1\n",
        "n2 = Node(45)\n",
        "n2.prev = n1\n",
        "n1.next = n2\n",
        "n3 = Node(10)\n",
        "n3.prev = n2\n",
        "n2.next = n3\n",
        "n4 = Node(51)\n",
        "n4.prev = n3\n",
        "n3.next = n4\n",
        "dll.forward_traversal()\n",
        "dll.backward_traversal()\n",
        "dll.insertion_at_beginning(2)\n",
        "dll.forward_traversal()\n",
        "dll.backward_traversal()\n",
        "dll.insertion_at_end(45)\n",
        "dll.forward_traversal()\n",
        "dll.backward_traversal()\n",
        "dll.insert_at_the_specified_position(2,58)\n",
        "dll.forward_traversal()\n",
        "dll.deletion_at_the_beginning()\n",
        "dll.forward_traversal()\n",
        "dll.backward_traversal()\n",
        "dll.deletion_at_the_end()\n",
        "dll.forward_traversal()\n",
        "dll.deletion_at_the_particular_position(3)\n",
        "dll.forward_traversal()\n"
      ]
    },
    {
      "cell_type": "code",
      "execution_count": null,
      "metadata": {
        "colab": {
          "base_uri": "https://localhost:8080/"
        },
        "id": "kWihptrD92aQ",
        "outputId": "3d48be84-c076-447b-d922-d5b9ce09d5aa"
      },
      "outputs": [
        {
          "name": "stdout",
          "output_type": "stream",
          "text": [
            "Preorder Traversal : 1243\n",
            "Inorder Traversal :  4213\n",
            "Postorder Traversal : 4231"
          ]
        }
      ],
      "source": [
        "# Implementation of Binary Tree ---> Preorder, Inorder, Postorder\n",
        "\n",
        "class Node:\n",
        "  def __init__(self,key):\n",
        "    self.left = None\n",
        "    self.right = None\n",
        "    self.val = key\n",
        "\n",
        "  def traPreorder(self):\n",
        "    print(self.val, end=\"\")\n",
        "    if self.left:\n",
        "      self.left.traPreorder()\n",
        "    if self.right:\n",
        "      self.right.traPreorder()\n",
        "\n",
        "  def traInorder(self):\n",
        "    if self.left:\n",
        "      self.left.traInorder()\n",
        "    print(self.val, end=\"\")\n",
        "    if self.right:\n",
        "      self.right.traInorder()\n",
        "\n",
        "  def traPostorder(self):\n",
        "    if self.left:\n",
        "      self.left.traPostorder()\n",
        "    if self.right:\n",
        "      self.right.traPostorder()\n",
        "    print(self.val, end=\"\")\n",
        "\n",
        "root = Node(1)\n",
        "root.left = Node(2)\n",
        "root.right = Node(3)\n",
        "root.left.left = Node(4)\n",
        "\n",
        "print(\"Preorder Traversal : \", end = \"\")\n",
        "root.traPreorder()\n",
        "print(\"\\nInorder Traversal : \", end = \" \")\n",
        "root.traInorder()\n",
        "print(\"\\nPostorder Traversal : \", end = \"\")\n",
        "root.traPostorder()\n",
        "\n"
      ]
    },
    {
      "cell_type": "code",
      "execution_count": null,
      "metadata": {
        "colab": {
          "base_uri": "https://localhost:8080/"
        },
        "id": "70VFGMEIAPOS",
        "outputId": "82bd43f6-5daa-45a7-92ab-9d96fb3f198c"
      },
      "outputs": [
        {
          "name": "stdout",
          "output_type": "stream",
          "text": [
            "Model: Random Forest\n",
            "Accuracy: 0.6\n",
            "\n",
            "\n",
            "Model: Stacking\n",
            "Accuracy: 0.65\n",
            "\n",
            "\n",
            "Model: AdaBoost\n",
            "Accuracy: 0.5333333333333333\n",
            "\n",
            "\n"
          ]
        },
        {
          "name": "stderr",
          "output_type": "stream",
          "text": [
            "/usr/local/lib/python3.10/dist-packages/sklearn/ensemble/_base.py:166: FutureWarning: `base_estimator` was renamed to `estimator` in version 1.2 and will be removed in 1.4.\n",
            "  warnings.warn(\n"
          ]
        }
      ],
      "source": [
        "# AML Internal Lab - 1\n",
        "import numpy as np\n",
        "import pandas as pd\n",
        "from sklearn.model_selection import train_test_split\n",
        "from sklearn.ensemble import RandomForestClassifier, GradientBoostingClassifier, StackingClassifier, BaggingClassifier, AdaBoostClassifier\n",
        "from sklearn.tree import DecisionTreeClassifier\n",
        "from sklearn.metrics import accuracy_score, classification_report\n",
        "\n",
        "url = \"https://archive.ics.uci.edu/ml/machine-learning-databases/heart-disease/processed.cleveland.data\"\n",
        "names = ['age', 'sex', 'cp', 'trestbps', 'chol', 'fbs', 'restecg', 'thalach', 'exang', 'oldpeak', 'slope', 'ca', 'thal', 'target']\n",
        "data = pd.read_csv(url, names=names)\n",
        "\n",
        "\n",
        "data.replace('?', np.nan, inplace=True)\n",
        "data.dropna(inplace=True)\n",
        "X = data.drop('target', axis=1)\n",
        "y = data['target']\n",
        "\n",
        "X_train, X_test, y_train, y_test = train_test_split(X, y, test_size=0.2, random_state=42)\n",
        "\n",
        "models = {\n",
        "    'Random Forest': RandomForestClassifier(random_state=42),\n",
        "    'Stacking': StackingClassifier(estimators=[\n",
        "        ('rf', RandomForestClassifier(random_state=42)),\n",
        "        ('dt', DecisionTreeClassifier(random_state=42))\n",
        "    ], final_estimator=RandomForestClassifier(random_state=42)),\n",
        "    'AdaBoost': AdaBoostClassifier(base_estimator=DecisionTreeClassifier(random_state=42), n_estimators=50, random_state=42)\n",
        "}\n",
        "\n",
        "results = {}\n",
        "for name, model in models.items():\n",
        "    model.fit(X_train, y_train)\n",
        "    y_pred = model.predict(X_test)\n",
        "    accuracy = accuracy_score(y_test, y_pred)\n",
        "    results[name] = {'Accuracy': accuracy}\n",
        "\n",
        "\n",
        "for name, result in results.items():\n",
        "    print(f\"Model: {name}\")\n",
        "    print(f\"Accuracy: {result['Accuracy']}\")\n",
        "    print(\"\\n\")\n"
      ]
    },
    {
      "cell_type": "code",
      "execution_count": null,
      "metadata": {
        "colab": {
          "base_uri": "https://localhost:8080/"
        },
        "id": "bHrJaRkY91zE",
        "outputId": "e3bfe7fc-7a8e-49af-936b-4274177e6d8e"
      },
      "outputs": [
        {
          "name": "stdout",
          "output_type": "stream",
          "text": [
            "Inorder traversal: 2-->4-->5-->7-->8-->9-->11-->15-->\n",
            "Delete 11\n",
            "Inorder traversal: 2-->4-->5-->7-->8-->9-->15-->"
          ]
        }
      ],
      "source": [
        "# Implement BST for Insertion, Deletion And Searching\n",
        "\n",
        "class Node:\n",
        "  def __init__(self,key):\n",
        "    self.key = key\n",
        "    self.left = None\n",
        "    self.right = None\n",
        "\n",
        "def inorder(root):\n",
        "  if root is not None:\n",
        "    inorder(root.left)\n",
        "\n",
        "    print(str(root.key) + \"-->\",end=\"\")\n",
        "\n",
        "    inorder(root.right)\n",
        "\n",
        "def insert(node, key):\n",
        "  if node is None:\n",
        "    return Node(key)\n",
        "  if key < node.key:\n",
        "    node.left = insert(node.left, key)\n",
        "  else:\n",
        "    node.right = insert(node.right, key)\n",
        "  return node\n",
        "\n",
        "def minValueNode(node):\n",
        "  current = node\n",
        "\n",
        "  while(current.left is not None):\n",
        "    current = current.left\n",
        "\n",
        "  return current\n",
        "\n",
        "def deleteNode(root,key):\n",
        "  if root is None:\n",
        "    return root\n",
        "  if key < root.key:\n",
        "    root.left = deleteNode(root.left, key)\n",
        "  elif key > root.key:\n",
        "    root.right = deleteNode(root.right, key)\n",
        "  else:\n",
        "    if root.left is None:\n",
        "      temp = root.right\n",
        "      root = None\n",
        "      return temp\n",
        "    elif root.right is None:\n",
        "      temp = root.left\n",
        "      root = None\n",
        "      return temp\n",
        "\n",
        "    temp = minValueNode(root.right)\n",
        "\n",
        "    root.key = temp.key\n",
        "\n",
        "    root.right = deleteNode(root.right, temp.key)\n",
        "  return root\n",
        "\n",
        "root = None\n",
        "root = insert(root,9)\n",
        "root = insert(root,4)\n",
        "root = insert(root,2)\n",
        "root = insert(root,7)\n",
        "root = insert(root,8)\n",
        "root = insert(root,11)\n",
        "root = insert(root,15)\n",
        "root = insert(root,5)\n",
        "\n",
        "print(\"Inorder traversal: \", end='')\n",
        "inorder(root)\n",
        "print(\"\\nDelete 11\")\n",
        "root = deleteNode(root,11)\n",
        "print(\"Inorder traversal: \", end='')\n",
        "inorder(root)\n"
      ]
    },
    {
      "cell_type": "code",
      "execution_count": null,
      "metadata": {
        "colab": {
          "base_uri": "https://localhost:8080/"
        },
        "id": "pZW1lp3wFJAD",
        "outputId": "e880079d-9cbf-49c9-8e6d-04432b1fa0f4"
      },
      "outputs": [
        {
          "name": "stdout",
          "output_type": "stream",
          "text": [
            " | | \n",
            "-----\n",
            " | | \n",
            "-----\n",
            " | | \n",
            "\n",
            "X| | \n",
            "-----\n",
            " | | \n",
            "-----\n",
            " | | \n",
            "\n",
            "X| | \n",
            "-----\n",
            " | | \n",
            "-----\n",
            " | | \n",
            "\n",
            "X| | \n",
            "-----\n",
            " | |X\n",
            "-----\n",
            " | | \n",
            "\n",
            "X| | \n",
            "-----\n",
            " | |X\n",
            "-----\n",
            " | | \n",
            "\n",
            "X|X| \n",
            "-----\n",
            " | |X\n",
            "-----\n",
            " | | \n",
            "\n",
            "X|X| \n",
            "-----\n",
            " | |X\n",
            "-----\n",
            " | | \n",
            "\n",
            "X|X|X\n",
            "-----\n",
            " | |X\n",
            "-----\n",
            " | | \n",
            "\n",
            "You win!\n"
          ]
        }
      ],
      "source": [
        "import numpy as np\n",
        "\n",
        "class TicTacToe:\n",
        "    def __init__(self):\n",
        "        self.board = [' '] * 9\n",
        "\n",
        "    def reset(self):\n",
        "        self.board = [' '] * 9\n",
        "\n",
        "    def is_winner(self, player):\n",
        "        b = self.board\n",
        "        return ((b[0] == b[1] == b[2] == player) or\n",
        "                (b[3] == b[4] == b[5] == player) or\n",
        "                (b[6] == b[7] == b[8] == player) or\n",
        "                (b[0] == b[3] == b[6] == player) or\n",
        "                (b[1] == b[4] == b[7] == player) or\n",
        "                (b[2] == b[5] == b[8] == player) or\n",
        "                (b[0] == b[4] == b[8] == player) or\n",
        "                (b[2] == b[4] == b[6] == player))\n",
        "\n",
        "    def is_draw(self):\n",
        "        return ' ' not in self.board\n",
        "\n",
        "    def is_game_over(self):\n",
        "        return self.is_winner('X') or self.is_winner('O') or self.is_draw()\n",
        "\n",
        "    def get_valid_moves(self):\n",
        "        return [i for i in range(9) if self.board[i] == ' ']\n",
        "\n",
        "    def make_move(self, move, player):\n",
        "        self.board[move] = player\n",
        "\n",
        "    def print_board(self):\n",
        "        for i in range(0, 9, 3):\n",
        "            print('|'.join(self.board[i:i+3]))\n",
        "            if i < 6:\n",
        "                print('-----')\n",
        "\n",
        "# Q-learning agent\n",
        "class QLearningAgent:\n",
        "    def __init__(self):\n",
        "        self.q_table = {}\n",
        "        self.learning_rate = 0.1\n",
        "        self.discount_factor = 0.9\n",
        "        self.exploration_rate = 0.1\n",
        "\n",
        "    def get_q_value(self, state, action):\n",
        "        return self.q_table.get((state, action), 0.0)\n",
        "\n",
        "    def update_q_value(self, state, action, reward, next_state):\n",
        "        max_next_q_value = max([self.get_q_value(next_state, a) for a in range(9)])\n",
        "        current_q_value = self.get_q_value(state, action)\n",
        "        self.q_table[(state, action)] = current_q_value + \\\n",
        "            self.learning_rate * (reward + self.discount_factor * max_next_q_value - current_q_value)\n",
        "\n",
        "    def choose_action(self, state, valid_moves):\n",
        "        if np.random.rand() < self.exploration_rate:\n",
        "            return np.random.choice(valid_moves)\n",
        "        else:\n",
        "            q_values = [self.get_q_value(state, a) for a in valid_moves]\n",
        "            return valid_moves[np.argmax(q_values)]\n",
        "\n",
        "\n",
        "# Training function\n",
        "def train(agent, env, num_episodes=1000):\n",
        "    for _ in range(num_episodes):\n",
        "        env.reset()\n",
        "        state = tuple(env.board)\n",
        "        while not env.is_game_over():\n",
        "            valid_moves = env.get_valid_moves()\n",
        "            action = agent.choose_action(state, valid_moves)\n",
        "            env.make_move(action, 'X')\n",
        "            next_state = tuple(env.board)\n",
        "            reward = 0\n",
        "            if env.is_winner('X'):\n",
        "                reward = 1\n",
        "            elif env.is_winner('O'):\n",
        "                reward = -1\n",
        "            agent.update_q_value(state, action, reward, next_state)\n",
        "            state = next_state\n",
        "\n",
        "# Test function\n",
        "def test(agent, env):\n",
        "    env.reset()\n",
        "    state = tuple(env.board)\n",
        "    while not env.is_game_over():\n",
        "        env.print_board()\n",
        "        print()\n",
        "        if env.is_winner('X') or env.is_winner('O') or env.is_draw():\n",
        "            break\n",
        "        valid_moves = env.get_valid_moves()\n",
        "        action = agent.choose_action(state, valid_moves)\n",
        "        env.make_move(action, 'X')\n",
        "        state = tuple(env.board)\n",
        "        env.print_board()\n",
        "        print()\n",
        "        if env.is_winner('X'):\n",
        "            print(\"You win!\")\n",
        "        elif env.is_winner('O'):\n",
        "            print(\"You lose!\")\n",
        "        elif env.is_draw():\n",
        "            print(\"It's a draw!\")\n",
        "\n",
        "# Train the agent\n",
        "env = TicTacToe()\n",
        "agent = QLearningAgent()\n",
        "train(agent, env)\n",
        "\n",
        "# Test the trained agent\n",
        "test(agent, env)"
      ]
    },
    {
      "cell_type": "code",
      "execution_count": null,
      "metadata": {
        "colab": {
          "base_uri": "https://localhost:8080/"
        },
        "id": "Oa8dfYIkHo7V",
        "outputId": "9164f87d-d7a9-4742-eb0d-5098291fa9d7"
      },
      "outputs": [
        {
          "name": "stdout",
          "output_type": "stream",
          "text": [
            "The value calculated by monte carlo integration is 1.9317500986662912.\n"
          ]
        }
      ],
      "source": [
        "# importing the modules\n",
        "import random\n",
        "import numpy as np\n",
        "a = 0\n",
        "b = np.pi\n",
        "N = 1000\n",
        "ar = np.zeros(N)\n",
        "\n",
        "for i in range (len(ar)):\n",
        "  ar[i] = random.uniform(a,b)\n",
        "\n",
        "integral = 0.0\n",
        "\n",
        "\n",
        "def f(x):\n",
        "  return np.sin(x)\n",
        "\n",
        "for i in ar:\n",
        "  integral += f(i)\n",
        "\n",
        "ans = (b-a)/float(N)*integral\n",
        "print (\"The value calculated by monte carlo integration is {}.\".format(ans))\n"
      ]
    },
    {
      "cell_type": "code",
      "execution_count": null,
      "metadata": {
        "colab": {
          "background_save": true
        },
        "id": "8GCyeAQQTwjF",
        "outputId": "28f2b697-c3ee-4f43-e250-28fcc6c0a290"
      },
      "outputs": [
        {
          "name": "stdout",
          "output_type": "stream",
          "text": [
            "1.0\n",
            "0.5\n",
            "0.5\n",
            "0.6666666666666666\n"
          ]
        }
      ],
      "source": [
        "import scipy.spatial.distance as dist\n",
        "\n",
        "Q=dist.jaccard([19, 8, 90], [50, 19, 900])\n",
        "\n",
        "Q1=dist.jaccard([1, 0, 0], [1, 1, 0])\n",
        "\n",
        "Q2=dist.jaccard([1, 0, 0], [1, 2, 0])\n",
        "\n",
        "Q3=dist.jaccard([1, 0, 0], [1, 1, 1])\n",
        "\n",
        "print (Q)\n",
        "print (Q1)\n",
        "print (Q2)\n",
        "print (Q3)\n"
      ]
    },
    {
      "cell_type": "markdown",
      "source": [
        "**Problem Statement: Given an array of N integers, write a program to add an array element at the beginning, end, and at a specific position.\n",
        "\n",
        "Example:\n",
        "Input: N = 5, array[] = {1,2,3,4,5}\n",
        "insertbeginning(6)\n",
        "insertending(7)\n",
        "insertatpos(8,4)\n",
        "Output: 6,1,2,8,3,4,5,7**"
      ],
      "metadata": {
        "id": "fiO2aZJ6Nh-z"
      }
    },
    {
      "cell_type": "code",
      "source": [
        "array = [1,2,3,4,5]\n",
        "element = 6\n",
        "position = 3\n",
        "def insert_At_beginning(array, element):\n",
        "  array.insert(0,element)\n",
        "  return array\n",
        "\n",
        "def insert_at_end(array, element2):\n",
        "  array.append(element2)\n",
        "  return array\n",
        "\n",
        "def insert_at_specific_position(array, element, position):\n",
        "  array.insert(position, element)\n",
        "  return array\n",
        "\n",
        "print(insert_At_beginning(array.copy(), element))\n",
        "print(insert_at_end(array.copy(), element))\n",
        "print(insert_at_specific_position(array.copy(), element, position))"
      ],
      "metadata": {
        "colab": {
          "base_uri": "https://localhost:8080/"
        },
        "id": "CQGwnf4JNoke",
        "outputId": "76c333ab-871c-42ac-e57a-1dcd9c0ad926"
      },
      "execution_count": null,
      "outputs": [
        {
          "output_type": "stream",
          "name": "stdout",
          "text": [
            "[6, 1, 2, 3, 4, 5]\n",
            "[1, 2, 3, 4, 5, 6]\n",
            "[1, 2, 3, 6, 4, 5]\n"
          ]
        }
      ]
    },
    {
      "cell_type": "markdown",
      "source": [
        "Problem Statement: Given an array, we have to find the sum of all the elements in the array\n",
        "\n",
        "Example 1:\n",
        "Input: N = 5, array[] = {1,2,3,4,5}\n",
        "Output: 15\n",
        "\n",
        "\n",
        "Example 2:\n",
        "Input:  N=6, array[] = {1,2,1,1,5,1}\n",
        "Output: 11"
      ],
      "metadata": {
        "id": "AQU3kwEsXXH1"
      }
    },
    {
      "cell_type": "code",
      "source": [
        "# Problem Statement: Given an array, we have to find the sum of all the elements in the array\n",
        "\n",
        "# Example 1:\n",
        "# Input: N = 5, array[] = {1,2,3,4,5}\n",
        "# Output: 15\n",
        "\n",
        "\n",
        "# Example 2:\n",
        "# Input:  N=6, array[] = {1,2,1,1,5,1}\n",
        "# Output: 11\n",
        "\n",
        "array = [1,2,3,4,5]\n",
        "\n",
        "def sum_ofarray(array):\n",
        "  sum = 0\n",
        "  for i in array:\n",
        "    sum += i\n",
        "  return sum\n",
        "\n",
        "print(sum_ofarray(array))\n",
        "\n",
        "array = [1,2,1,1,5,1]\n",
        "\n",
        "print(sum_ofarray(array))"
      ],
      "metadata": {
        "colab": {
          "base_uri": "https://localhost:8080/"
        },
        "id": "Th3USKaLXYL9",
        "outputId": "884d178f-ac4f-4375-f905-b04a18f15e9b"
      },
      "execution_count": null,
      "outputs": [
        {
          "output_type": "stream",
          "name": "stdout",
          "text": [
            "15\n",
            "11\n"
          ]
        }
      ]
    },
    {
      "cell_type": "markdown",
      "source": [
        "Problem Statement: Find all the non-repeating elements for a given array. Outputs can be in any order.\n",
        "\n",
        "Example 1:\n",
        "Input:\n",
        " Nums = [1,2,-1,1,3,1]\n",
        "Output:\n",
        " 2,-1,3\n",
        "\n",
        "Example 2:\n",
        "Input:\n",
        " Nums = [1,2,3]\n",
        "Output:\n",
        " 1,2,3"
      ],
      "metadata": {
        "id": "kjFfXSqm_n54"
      }
    },
    {
      "cell_type": "code",
      "source": [
        "# # Problem Statement: Find all the non-repeating elements for a given array. Outputs can be in any order.\n",
        "\n",
        "# # Example 1:\n",
        "# # Input:\n",
        "# #  Nums = [1,2,-1,1,3,1]\n",
        "# # Output:\n",
        "# #  2,-1,3\n",
        "\n",
        "# # Example 2:\n",
        "# # Input:\n",
        "# #  Nums = [1,2,3]\n",
        "# # Output:\n",
        "# #  1,2,3\n",
        "\n",
        "\n",
        "Nums = [1,2,-1,1,3,1]\n",
        "count = {}\n",
        "\n",
        "for i in Nums:\n",
        "  if i in count:\n",
        "    count[i] += 1\n",
        "  else:\n",
        "    count[i] = 1\n",
        "\n",
        "repeating = []\n",
        "for i, con in count.items():\n",
        "  if con == 1:\n",
        "    repeating.append(i)\n",
        "\n",
        "\n",
        "print(repeating)"
      ],
      "metadata": {
        "colab": {
          "base_uri": "https://localhost:8080/"
        },
        "id": "zjOh89_s_pDj",
        "outputId": "c935f158-4a85-4100-9c41-2b41e2dc1470"
      },
      "execution_count": null,
      "outputs": [
        {
          "output_type": "stream",
          "name": "stdout",
          "text": [
            "[2, -1, 3]\n"
          ]
        }
      ]
    },
    {
      "cell_type": "markdown",
      "source": [
        "Problem statment 01 :\n",
        "\n",
        "consider two integers M and N.Calculate the sum of the cubes of integers from M to N.if M is greater than N return 0 or print the proper the message."
      ],
      "metadata": {
        "id": "oOabwP7-cL-k"
      }
    },
    {
      "cell_type": "code",
      "source": [
        "def calculatecube(M, N):\n",
        "  if M > N:\n",
        "    return 0\n",
        "\n",
        "  totalSum = sum(i**3 for i in range(M, N+1))\n",
        "  return totalSum\n",
        "\n",
        "M = int(input(\"Enter the the value of M: \"))\n",
        "N = int(input(\"Enter the the value of N: \"))\n",
        "\n",
        "result = calculatecube(M,N)\n",
        "print(f\"The Sum of Cube of integers from {M} to {N} is {result}\")"
      ],
      "metadata": {
        "colab": {
          "base_uri": "https://localhost:8080/"
        },
        "id": "WyRp4BLhcMxi",
        "outputId": "60744107-eb2f-4315-db87-4b1e455af943"
      },
      "execution_count": null,
      "outputs": [
        {
          "output_type": "stream",
          "name": "stdout",
          "text": [
            "Enter the the value of M: 7\n",
            "Enter the the value of N: 1\n",
            "The Sum of Cube of integers from 7 to 1 is 0\n"
          ]
        }
      ]
    },
    {
      "cell_type": "markdown",
      "source": [
        "1.The person is booking the railway ticket based on their age and the number of tickets they want to purchase.The\n",
        "prices are regular price : rs.50, senior citizen (Age 60 and above) price : rs.30 and for the children\n",
        "age 12 and below price is :rs.20.Find out total cost based on the their age and the number of tickets and display it.\n",
        "\n",
        "\n",
        "sample input :\n",
        "\n",
        "enter your age : 65\n",
        "enter no of tickets : 3\n",
        "\n",
        "\n",
        "sample output :\n",
        "\n",
        "Total cost for 3 tickets : 90"
      ],
      "metadata": {
        "id": "NuXfVb0N2fGv"
      }
    },
    {
      "cell_type": "code",
      "source": [
        "Age = int(input(\"Enter your Age: \"))\n",
        "Tickets = int(input(\"Enter the no. of tickets: \"))\n",
        "\n",
        "if(Age >= 60):\n",
        "  price = 30\n",
        "elif(Age <= 12):\n",
        "  price = 20\n",
        "else:\n",
        "  price = 50\n",
        "\n",
        "TotalCost = price * Tickets\n",
        "print(f\"Total cost for {Tickets} tickets : {TotalCost}\")"
      ],
      "metadata": {
        "colab": {
          "base_uri": "https://localhost:8080/"
        },
        "id": "jGImdCTo2gEA",
        "outputId": "0e5c6c64-9982-447e-f4df-d3cae428cb78"
      },
      "execution_count": null,
      "outputs": [
        {
          "output_type": "stream",
          "name": "stdout",
          "text": [
            "Enter your Age: 65\n",
            "Enter the no. of tickets: 3\n",
            "Total cost for 3 tickets : 90\n"
          ]
        }
      ]
    },
    {
      "cell_type": "markdown",
      "source": [
        "2.Anil is ordering some food from a menu. In the menu cart it is displaying all the food items with their prices.\n",
        "\n",
        "Food items :\n",
        "1.Pizza - Rs.200\n",
        "2.Burger - Rs.100\n",
        "3.Dosa - Rs.150\n",
        "4.Briyani - Rs.250\n",
        "5.Chicken rice - Rs.200\n",
        "\n",
        "if the order total exceeds Rs.500, apply for 10% discount.Find out the total cost of the order , including\n",
        "any applicable discounts.\n",
        "\n",
        "\n",
        "sample input :\n",
        "\n",
        "choose any of the food\n",
        "\n",
        "1.pizza\n",
        "2.Burger\n",
        "3.Dosa\n",
        "4.Briyani\n",
        "5.Chicken rice\n",
        "\n",
        "Enter your choice( 1-5 ) : 1\n",
        "Enter quantity : 3\n",
        "\n",
        "\n",
        "Sample output :\n",
        "\n",
        "Total cost before discount: Rs. 600\n",
        "Discount applied: Rs. 60\n",
        "Total cost after discount: Rs. 540"
      ],
      "metadata": {
        "id": "i2kvj4DPJHSw"
      }
    },
    {
      "cell_type": "code",
      "source": [
        "# 2.Anil is ordering some food from a menu. In the menu cart it is displaying all the food items with their prices.\n",
        "\n",
        "# Food items :\n",
        "# 1.Pizza - Rs.200\n",
        "# 2.Burger - Rs.100\n",
        "# 3.Dosa - Rs.150\n",
        "# 4.Briyani - Rs.250\n",
        "# 5.Chicken rice - Rs.200\n",
        "\n",
        "# if the order total exceeds Rs.500, apply for 10% discount.Find out the total cost of the order , including\n",
        "# any applicable discounts.\n",
        "\n",
        "\n",
        "# sample input :\n",
        "\n",
        "# choose any of the food\n",
        "\n",
        "# 1.pizza\n",
        "# 2.Burger\n",
        "# 3.Dosa\n",
        "# 4.Briyani\n",
        "# 5.Chicken rice\n",
        "\n",
        "# Enter your choice( 1-5 ) : 1\n",
        "# Enter quantity : 3\n",
        "\n",
        "\n",
        "# Sample output :\n",
        "# Total cost before discount: Rs. 600\n",
        "# Discount applied: Rs. 60\n",
        "# Total cost after discount: Rs. 540\n",
        "\n",
        "print(\"Choose any of the food items: \\n1. Pizza\\n2. Burger\\n3. Dosa\\n4. Briyani\\n5. Chicken Rice\")\n",
        "\n",
        "# Get user input for choice and quantity\n",
        "choice = int(input(\"Enter your choice (1-5): \"))\n",
        "quantity = int(input(\"Enter quantity: \"))\n",
        "\n",
        "# Define menu with prices\n",
        "menu = {\n",
        "    1: ('Pizza', 200),\n",
        "    2: ('Burger', 100),\n",
        "    3: ('Dosa', 150),\n",
        "    4: ('Briyani', 250),\n",
        "    5: ('Chicken Rice', 200)\n",
        "}\n",
        "\n",
        "# Get the selected item and price\n",
        "if choice in menu:\n",
        "    item_name, item_price = menu[choice]\n",
        "    total_cost = item_price * quantity\n",
        "\n",
        "    # Calculate discount if applicable\n",
        "    discount = 0\n",
        "    if total_cost > 500:\n",
        "        discount = 0.1 * total_cost\n",
        "        total_cost_after_discount = total_cost - discount\n",
        "    else:\n",
        "        total_cost_after_discount = total_cost\n",
        "\n",
        "    # Display results\n",
        "    print(f\"Total cost before discount: Rs. {total_cost}\")\n",
        "    if discount > 0:\n",
        "        print(f\"Discount applied: Rs. {discount}\")\n",
        "    print(f\"Total cost after discount: Rs. {total_cost_after_discount}\")\n",
        "else:\n",
        "    print(\"Invalid choice. Please select a number between 1 and 5.\")\n"
      ],
      "metadata": {
        "colab": {
          "base_uri": "https://localhost:8080/"
        },
        "id": "GNm3N0W1JOoF",
        "outputId": "60f677eb-2968-4e1b-f076-2af22ac4620f"
      },
      "execution_count": null,
      "outputs": [
        {
          "output_type": "stream",
          "name": "stdout",
          "text": [
            "Choose any of the food items: \n",
            "1. Pizza\n",
            "2. Burger\n",
            "3. Dosa\n",
            "4. Briyani\n",
            "5. Chicken Rice\n",
            "Enter your choice (1-5): 3\n",
            "Enter quantity: 5\n",
            "Total cost before discount: Rs. 750\n",
            "Discount applied: Rs. 75.0\n",
            "Total cost after discount: Rs. 675.0\n"
          ]
        }
      ]
    },
    {
      "cell_type": "markdown",
      "source": [
        "3.A chocolate factory is packing chocolates into the packets.The chocolate packets here represent an array of\n",
        "N Number of integer values.The task is to find the empty packets(0) of chocolate and push it to the end of\n",
        "the conveyor belt(Array).\n",
        "\n",
        "Ex : N = 8 and arr = [4,5,0,1,9,0,5,0]"
      ],
      "metadata": {
        "id": "JzrU4LM4kONv"
      }
    },
    {
      "cell_type": "code",
      "source": [
        "arr = [4,5,0,1,9,0,5,0]\n",
        "def push_zeros_to_end(arr):\n",
        "  zero = []\n",
        "  non_zero = []\n",
        "  for i in range(len(arr)):\n",
        "    if arr[i] != 0:\n",
        "      zero.append(arr[i])\n",
        "    else:\n",
        "      non_zero.append(arr[i])\n",
        "\n",
        "  zero.extend(non_zero)\n",
        "  return zero\n",
        "\n",
        "print(push_zeros_to_end(arr))"
      ],
      "metadata": {
        "colab": {
          "base_uri": "https://localhost:8080/"
        },
        "id": "dvcQndI4kPhb",
        "outputId": "9cecdbe6-a591-4d7e-db21-8b0ca74c2d02"
      },
      "execution_count": null,
      "outputs": [
        {
          "output_type": "stream",
          "name": "stdout",
          "text": [
            "[4, 5, 1, 9, 5, 0, 0, 0]\n"
          ]
        }
      ]
    },
    {
      "cell_type": "markdown",
      "source": [
        "Input: arr = [1,7,2,0,0,0]\n",
        "Output: arr = [1,7,2,*,*,*]"
      ],
      "metadata": {
        "id": "zq4_ERmHoMQd"
      }
    },
    {
      "cell_type": "code",
      "source": [
        "def convert_zero_to_star(arr):\n",
        "  for i in range(len(arr)):\n",
        "    if arr[i] == 0:\n",
        "      arr[i] ='*'\n",
        "    else:\n",
        "      arr[i] += 1\n",
        "  return arr\n",
        "\n",
        "arr = [1,7,2,0,0,0]\n",
        "print(convert_zero_to_star(arr))"
      ],
      "metadata": {
        "colab": {
          "base_uri": "https://localhost:8080/"
        },
        "id": "GRS00UWLolzD",
        "outputId": "a892e06f-35da-47c4-b3ed-f81480653ed0"
      },
      "execution_count": null,
      "outputs": [
        {
          "output_type": "stream",
          "name": "stdout",
          "text": [
            "[2, 8, 3, '*', '*', '*']\n"
          ]
        }
      ]
    },
    {
      "cell_type": "code",
      "source": [
        "# Is factorial or not\n",
        "# factorial = 1\n",
        "def is_factorial(nums):\n",
        "  factorial = 1\n",
        "  if nums < 0:\n",
        "    print(\"Negative Number\")\n",
        "\n",
        "  elif nums == 0:\n",
        "    print(\"Factorial of 0 is 1\")\n",
        "\n",
        "  else:\n",
        "    for i in range(1 , nums + 1):\n",
        "      factorial = factorial * i\n",
        "\n",
        "    print(factorial)\n",
        "\n",
        "nums = int(input(\"Enter the number: \"))\n",
        "is_factorial(nums)\n",
        "\n"
      ],
      "metadata": {
        "colab": {
          "base_uri": "https://localhost:8080/"
        },
        "id": "Xokfcd39HS6u",
        "outputId": "d483d841-6ecb-4e05-d65a-18300c9935d1"
      },
      "execution_count": null,
      "outputs": [
        {
          "output_type": "stream",
          "name": "stdout",
          "text": [
            "Enter the number: 10\n",
            "3628800\n"
          ]
        }
      ]
    },
    {
      "cell_type": "code",
      "source": [
        "def is_factorial(nums):\n",
        "  factorial = 1\n",
        "\n",
        "  if nums < 0:\n",
        "    return \"Negative Number\"\n",
        "\n",
        "  elif nums == 0:\n",
        "    return \"Factorial of 0 is 1\"\n",
        "\n",
        "  else:\n",
        "    for i in range(1 , nums + 1):\n",
        "      factorial = factorial * i\n",
        "\n",
        "    print(factorial)\n",
        "\n",
        "nums = int(input(\"Enter the number\"))\n",
        "is_factorial(nums)"
      ],
      "metadata": {
        "colab": {
          "base_uri": "https://localhost:8080/"
        },
        "id": "uhnsFtlsXJ3s",
        "outputId": "8533fcc9-f1c5-425e-fc76-df8c68a94625"
      },
      "execution_count": null,
      "outputs": [
        {
          "output_type": "stream",
          "name": "stdout",
          "text": [
            "Enter the number10\n",
            "3628800\n"
          ]
        }
      ]
    },
    {
      "cell_type": "code",
      "source": [
        "# Learning Singly LinkedList\n",
        "\n",
        "class Node():\n",
        "  def __init__(self, data):\n",
        "    self.data = data\n",
        "    self.reference = None\n",
        "\n",
        "class LinkedList():\n",
        "  def __init__(self):\n",
        "    self.head = None\n",
        "\n",
        "  def insert_at_begin(self,data):\n",
        "    nb = Node(data)\n",
        "    nb.reference = self.head\n",
        "    self.head = nb\n",
        "\n",
        "  def insert_at_end(self,data):\n",
        "    ne = Node(data)\n",
        "    while a.next is not None:\n",
        "      a = a.next\n",
        "    a.next = ne\n",
        "\n",
        "  def insert_at_position(self, data, position):\n",
        "    np = Node(data)\n",
        "    a = self.head\n",
        "    for i in range(1, position-1):\n",
        "      a = a.next\n",
        "    np.next = a.next\n",
        "    a.next = np\n",
        "\n"
      ],
      "metadata": {
        "id": "Oq_M_JOvX4xg"
      },
      "execution_count": null,
      "outputs": []
    }
  ],
  "metadata": {
    "colab": {
      "provenance": []
    },
    "kernelspec": {
      "display_name": "Python 3",
      "name": "python3"
    },
    "language_info": {
      "name": "python"
    }
  },
  "nbformat": 4,
  "nbformat_minor": 0
}